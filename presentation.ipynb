{
 "cells": [
  {
   "cell_type": "markdown",
   "metadata": {},
   "source": [
    "# Reinforcement Learning pour le Yams\n",
    "\n",
    "## Objectifs\n",
    "\n",
    "Développer un environnement de jeu pour le Yams et entraîner un algorithme de renforcement pour jouer au Yams."
   ]
  },
  {
   "cell_type": "code",
   "execution_count": 14,
   "metadata": {},
   "outputs": [],
   "source": [
    "import numpy as np"
   ]
  },
  {
   "cell_type": "markdown",
   "metadata": {},
   "source": [
    "## Réprésentation des figures"
   ]
  },
  {
   "cell_type": "markdown",
   "metadata": {},
   "source": [
    "Chaque type de figure (Nombre, Pair/Brelan/Carré/Yams,...) est représenté par une classe qui permet de définir si avec une combinaison de dès (représentation par histogramme), il est possible de réaliser la figure et le nombre de point qu'elle rapporte le cas échéant."
   ]
  },
  {
   "cell_type": "code",
   "execution_count": 15,
   "metadata": {},
   "outputs": [
    {
     "name": "stdout",
     "output_type": "stream",
     "text": [
      "6\n"
     ]
    }
   ],
   "source": [
    "class Number():\n",
    "    def __init__(self, number:int):\n",
    "        self.number = number\n",
    "\n",
    "    def is_valid(self, dices:np.array):\n",
    "        return dices[self.number] > 0\n",
    "\n",
    "    def compute_value(self, dices:np.array):\n",
    "        return (self.number + 1) * dices[self.number]\n",
    "\n",
    "# Number(2) compte le nombre de 3 parmis les dès\n",
    "print(Number(2).compute_value(np.array([0, 3, 2, 0, 0, 0])))"
   ]
  },
  {
   "cell_type": "markdown",
   "metadata": {},
   "source": [
    "## Environnement de tour"
   ]
  },
  {
   "cell_type": "markdown",
   "metadata": {},
   "source": [
    "L'environnement de tour est identique à l'environnement donné. Le vecteur de récompense est déterminé en prenant la figure disponible qui rapporte le plus de point pour chaque combinaison de dés.\n",
    "\n",
    "## Politique du Tour\n",
    "\n",
    "Plusieurs choix de politique du tour sont possibles. Pour des raisons de performances, on utilise une politique `greedy`, c'est-à-dire la value function dépend de la reward maximal associé à chaque état terminal. Grâce à cet politique, il est possible de directement calculer la `value function` $V$ de l'état terminal d'un tour à partir de l'état $s$ de l'environnement de Yams car celle-ci est indépendante de la politique du jeu de Yams.\n",
    "\n",
    "\n",
    "$$V_\\pi(s_{dice}) = max_{s,a}(r_{(s, a)})$$ \n",
    "où $r_(s, a)$ est la reward associé à la décision d'effectuer l'action $a$ dans l'état $s$ au sein de l'environnnement du Yams.\n",
    "\n",
    "A partir de cet reward on peut calculer la policy en utilisant les equations de Bellman.\n",
    "\n",
    "$$\\pi(s) = argmax_a \\sum_{s',r} p(s',r|s,a)[r + \\gamma V\\pi(s')]$$\n",
    "\n",
    "Ce choix de politique est justifié par un besoin de performances et la possibilité de précalculé la politique pour chaque état $s$ du jeu de Yams.\n"
   ]
  },
  {
   "cell_type": "code",
   "execution_count": 16,
   "metadata": {},
   "outputs": [],
   "source": [
    "# Partie du code récupérant le vecteur de récompense\n",
    "from turn_env import TurnEnvironment\n",
    "\n",
    "def compute_v3():\n",
    "    figures = [Number(0), Number(1), Number(2)]\n",
    "    MyTurn = TurnEnvironment(3, 3)\n",
    "    reward_table = np.zeros((len(MyTurn.S),len(figures)))\n",
    "    for i, s in enumerate(MyTurn.S):\n",
    "        Aa = get_actions(s)\n",
    "        for a, r in Aa :\n",
    "            reward_table[i,a]= r \n",
    "    v_3 = reward_table.max(axis=1) "
   ]
  },
  {
   "cell_type": "markdown",
   "metadata": {},
   "source": [
    "## Environnement de partie"
   ]
  },
  {
   "cell_type": "markdown",
   "metadata": {},
   "source": [
    "Les états sont représenté par un vecteur binaire indiquant si la figure a été prise ou non durant la partie.\n",
    "\n",
    "Si l'on considère les règles de Yams suivantes:\n",
    "\n",
    "    - 3 dès à 3 faces\n",
    "    - Figures: Somme des dès à 1, 2 et 3 faces et le Brelan\n",
    "\n",
    "$(0,0,0,0)$ est `l'état initial`\n",
    "\n",
    "$(1, 1, 1,1)$ est `l'état terminal`\n",
    "\n",
    "Une action $a$ est représenté par un entier $i$ qui correspond à l'ensemble des indices des cases non cochés dans l'état courant $s$\n",
    "\n",
    "La récompense associé à $(s, a)$ dépend du lancer de dès obtenue dans l'environnement de tour.\n",
    "\n",
    "Le nombre d'états est $|S| = 2^{nb\\_figures}$"
   ]
  },
  {
   "cell_type": "code",
   "execution_count": 17,
   "metadata": {},
   "outputs": [],
   "source": [
    "import itertools\n",
    "import itertools\n",
    "from random import choice\n",
    "\n",
    "import numpy as np\n",
    "from tqdm import tqdm\n",
    "\n",
    "from figures import Figure\n",
    "from turn_env import TurnEnvironment\n",
    "\n",
    "\n",
    "def default_RL_policy(state, actions):\n",
    "    \"\"\"Default policy, greedy\"\"\"\n",
    "    return max(actions, key=lambda x: x[1])\n",
    "\n",
    "def random_policy(state, actions):\n",
    "    '''random policy'''\n",
    "    return choice(actions)\n",
    "\n",
    "class YamsEnv:\n",
    "    \"\"\"Class to represent a Yams Game.\n",
    "    score_sheet: ndarray of size (nb_dice, coombinaison)\"\"\"\n",
    "\n",
    "    def __init__(self, nb_dice: int, nb_face: int, figures: dict[Figure], RL_policy: callable = default_RL_policy, saved_turnQs=None):\n",
    "        self.nb_face = nb_face\n",
    "        self.nb_dice = nb_dice\n",
    "        self.MyTurn = TurnEnvironment(self.nb_dice,self.nb_face)\n",
    "        self.figures = figures\n",
    "        self.states = self.get_states()\n",
    "        if saved_turnQs is not None:\n",
    "            self.turnQs = np.load(saved_turnQs,allow_pickle=True).item()\n",
    "        else:\n",
    "            self.turnQs = self.get_turnQs() # List of all possible TurnEnv Q value for each YamsEnv state\n",
    "        self.RL_policy = RL_policy\n",
    "        self.scored = [False for _ in range(len(figures))]\n",
    "        self.tot_reward = 0\n",
    "\n",
    "    def get_states(self):\n",
    "        \"\"\"Return a list of all possibles states\"\"\"\n",
    "        states = []\n",
    "        for it in itertools.product(range(2), repeat=len(self.figures)):\n",
    "            states.append(tuple(it))\n",
    "        return states\n",
    "    \n",
    "    def get_turnQs(self):\n",
    "        '''Return a list of all possible TurnEnv Q value for each YamsEnv state'''\n",
    "        turnQs = {}\n",
    "        for scored in tqdm(self.states):\n",
    "            self.scored = scored\n",
    "            reward_table = np.zeros((len(self.MyTurn.S),len(self.figures)))\n",
    "            for i, s in enumerate(self.MyTurn.S):\n",
    "                Aa = self.get_actions(s)\n",
    "                for a, r in Aa :\n",
    "                    reward_table[i,a]= r\n",
    "\n",
    "            v_3 = reward_table.max(axis=1)\n",
    "            v_2,Q_2 = self.MyTurn.One_step_backward(v_3)\n",
    "            v_1,Q_1 = self.MyTurn.One_step_backward(v_2)\n",
    "            turnQs[scored] = (Q_1, Q_2)\n",
    "        return turnQs\n",
    "    \n",
    "    def get_actions(self, dices):\n",
    "        \"\"\"Return a list of all possible actions from state s.\"\"\"\n",
    "        actions = []\n",
    "        for i, figure in enumerate(self.figures):\n",
    "            if figure.is_valid(dices) and not self.scored[i]:\n",
    "                future_reward = figure.compute_value(dices)\n",
    "                actions.append((i, future_reward))\n",
    "        if not actions: # Empty list\n",
    "            for i in range(len(self.figures)):\n",
    "                if not self.scored[i]:\n",
    "                    actions.append((i, 0))\n",
    "        return actions\n",
    "    \n",
    "    def choose_action(self):\n",
    "        Q_1, Q_2 = self.turnQs[tuple(self.scored)]\n",
    "        #######################################\n",
    "        # First Roll\n",
    "        s0 = self.MyTurn.get_state_from_action(np.zeros((self.nb_face),dtype='int'))       \n",
    "        a0,_ = self.MyTurn.choose_best_action(s0,Q_1)\n",
    "        ############################################\"\"\"\n",
    "        # Second Roll\n",
    "        s1 = self.MyTurn.get_state_from_action(a0)\n",
    "        a1,_ = self.MyTurn.choose_best_action(s1,Q_2)\n",
    "        #######\n",
    "        #Third Roll\n",
    "        s2 = self.MyTurn.get_state_from_action(a0)\n",
    "        #print(s2)\n",
    "        \n",
    "        Aa = self.get_actions(s2)        \n",
    "        #print(Aa)\n",
    "        \n",
    "        action, reward = self.RL_policy(self.scored, Aa)\n",
    "        #print(reward)\n",
    "\n",
    "        return action, int(reward)\n",
    "\n",
    "    def play_game(self):\n",
    "        history = []\n",
    "        for i in range(len(self.figures)):\n",
    "            action, reward = self.choose_action()\n",
    "            history.append((tuple(self.scored), reward))\n",
    "            assert not self.scored[action]\n",
    "            self.scored[action] = True\n",
    "            self.tot_reward += reward\n",
    "        return self.tot_reward, history\n",
    "    \n",
    "    def reset(self):\n",
    "        self.scored = [False for _ in range(len(self.figures))]\n",
    "        self.tot_reward = 0\n"
   ]
  },
  {
   "cell_type": "markdown",
   "metadata": {},
   "source": [
    "## Politique du Yams\n",
    "\n",
    "La politique du Yams permet de décider quelle case doit être coché à chaque tour de jeu afin de maximiser le score globale du jeu\n",
    "\n",
    "Pour ce faire, on calcule la `value function` $V$ associé à chaque fiche de score à partir de laquelle on calcule la meilleure policy $\\pi$ \n",
    "\n",
    "Comme pour la politique du tour, on utilise la formule suivante:\n",
    "\n",
    "$$\\pi(s) = argmax_a [\\underbrace{r}_{connu} + \\gamma \\underbrace{V_\\pi(s')}_{appris}]$$\n",
    "\n",
    "où l'action $a$ est restreint par le lancer de dès de l'environnement du Tour\n",
    "et V(s) est la somme des récompenses futures attendues partir de l'état s\n",
    "\n",
    "Note : $\\gamma$  = 1.0 lors de nos expériences"
   ]
  },
  {
   "cell_type": "markdown",
   "metadata": {},
   "source": [
    "## Expériences\n",
    "\n",
    "Pour apprendre une politique optimale, on utilise l'algorithme du `first visit MC control`.\n",
    "\n",
    "\n",
    "\n",
    "\n",
    "Afin d'évaluer la politique obtenue, on la compare avec une politique aléatoire. De plus, comme le jeu comporte une grande part d'aléatoire (notamment au niveau des lancer de dès), il est nécessaire de tester sur un grande nombre de partie.\n",
    "\n",
    "\n"
   ]
  },
  {
   "cell_type": "code",
   "execution_count": 18,
   "metadata": {},
   "outputs": [
    {
     "name": "stderr",
     "output_type": "stream",
     "text": [
      "100%|██████████| 64/64 [00:00<00:00, 364.77it/s]\n",
      "Learning: 100%|██████████| 2000/2000 [00:00<00:00, 2940.38it/s]\n"
     ]
    },
    {
     "data": {
      "image/png": "[encoded data removed]",
      "text/plain": [
       "<Figure size 500x500 with 1 Axes>"
      ]
     },
     "metadata": {},
     "output_type": "display_data"
    }
   ],
   "source": [
    "from figures import *\n",
    "import matplotlib.pyplot as plt\n",
    "\n",
    "class first_visit_MC():\n",
    "    def choose_action(self, state, actions):\n",
    "        best_action = (0, -1)\n",
    "        vmax = -1\n",
    "        for action, reward in actions:\n",
    "            new_state = state.copy()\n",
    "            new_state[action] = True\n",
    "            new_state = tuple(new_state)\n",
    "            v = reward + self.state_value[new_state]/self.state_count[new_state]\n",
    "            if v > vmax:\n",
    "                best_action = (action, reward)\n",
    "                vmax = v\n",
    "        return best_action\n",
    "    \n",
    "    def learn(self, n_episodes, game:YamsEnv, gamma=0.9):\n",
    "        self.state_value = {state:10000 for state in game.states}\n",
    "        self.state_count = {state:1 for state in game.states}\n",
    "        self.game = game\n",
    "        self.scores = []\n",
    "        for _ in tqdm(range(n_episodes), desc='Learning'):\n",
    "            self.game.reset()\n",
    "            r_game, history = self.game.play_game()\n",
    "            explored = {}\n",
    "            tot_reward = 0\n",
    "            for state, reward in history[::-1]:\n",
    "                tot_reward = tot_reward * gamma + reward\n",
    "                explored[state] = tot_reward\n",
    "            for state, v in explored.items():\n",
    "                self.state_value[state] += v\n",
    "                self.state_count[state] += 1\n",
    "            self.scores.append(r_game)\n",
    "        for state in self.state_value:\n",
    "            self.state_value[state] /= self.state_count[state]\n",
    "        self.state_value[tuple([True]*len(self.game.figures))] = 0\n",
    "        return self.scores\n",
    "    \n",
    "    def test(self, game:YamsEnv):\n",
    "        self.game = game\n",
    "        self.game.reset()\n",
    "        r_game, _ = self.game.play_game()\n",
    "        return r_game\n",
    "\n",
    "rl = first_visit_MC()\n",
    "env = YamsEnv(3, 3, [Multiple(3, 15), Multiple(2, 5), Number(0), Number(1), Number(2), Chance()], rl.choose_action)\n",
    "scores = rl.learn(2000, env, gamma=1)\n",
    "plt.figure(figsize=(5, 5))\n",
    "plt.title(\"Evolution du score au fil de l'apprentissage\")\n",
    "plt.ylabel(\"Score\")\n",
    "plt.xlabel(\"Episodes\")\n",
    "plt.plot(scores)\n",
    "plt.plot(np.polyval(np.polyfit(range(len(scores)), scores, 1), range(len(scores))))\n",
    "plt.show()"
   ]
  },
  {
   "cell_type": "markdown",
   "metadata": {},
   "source": [
    "### Test avec 3 dès à 3 faces"
   ]
  },
  {
   "cell_type": "code",
   "execution_count": 19,
   "metadata": {},
   "outputs": [
    {
     "name": "stderr",
     "output_type": "stream",
     "text": [
      "Learning: 100%|██████████| 20000/20000 [00:07<00:00, 2752.40it/s]\n",
      "Test on best policy: 100%|██████████| 10000/10000 [00:03<00:00, 2900.53it/s]\n"
     ]
    },
    {
     "name": "stdout",
     "output_type": "stream",
     "text": [
      "Score moyen best policy: 37.1723\n"
     ]
    },
    {
     "name": "stderr",
     "output_type": "stream",
     "text": [
      "100%|██████████| 64/64 [00:00<00:00, 408.53it/s]\n",
      "Test on random policy: 100%|██████████| 10000/10000 [00:02<00:00, 3479.04it/s]\n"
     ]
    },
    {
     "name": "stdout",
     "output_type": "stream",
     "text": [
      "Score moyen random policy: 32.6382\n"
     ]
    },
    {
     "name": "stderr",
     "output_type": "stream",
     "text": [
      "100%|██████████| 64/64 [00:00<00:00, 419.59it/s]\n",
      "Test on greedy policy: 100%|██████████| 10000/10000 [00:02<00:00, 3438.16it/s]"
     ]
    },
    {
     "name": "stdout",
     "output_type": "stream",
     "text": [
      "Score moyen greedy policy: 37.1425\n"
     ]
    },
    {
     "name": "stderr",
     "output_type": "stream",
     "text": [
      "\n"
     ]
    }
   ],
   "source": [
    "from yams_env import random_policy\n",
    "from tqdm import tqdm\n",
    "\n",
    "_ = rl.learn(20000, env, gamma=1.0)\n",
    "best_scores = []\n",
    "for i in tqdm(range(10000), desc='Test on best policy'):\n",
    "    best_scores.append(rl.test(env))\n",
    "print(f'Score moyen best policy: {np.mean(best_scores)}')\n",
    "\n",
    "random_env = YamsEnv(3, 3, [Multiple(3, 15), Multiple(2, 5), Number(0), Number(1), Number(2), Chance()], random_policy)\n",
    "random_scores = []\n",
    "for i in tqdm(range(10000), desc='Test on random policy'):\n",
    "    random_scores.append(rl.test(random_env))\n",
    "print(f'Score moyen random policy: {np.mean(random_scores)}')\n",
    "\n",
    "greedy_env = YamsEnv(3, 3, [Multiple(3, 15), Multiple(2, 5), Number(0), Number(1), Number(2), Chance()], default_RL_policy)\n",
    "greedy_scores = []\n",
    "for i in tqdm(range(10000), desc='Test on greedy policy'):\n",
    "    greedy_scores.append(rl.test(greedy_env))\n",
    "print(f'Score moyen greedy policy: {np.mean(greedy_scores)}')"
   ]
  },
  {
   "cell_type": "markdown",
   "metadata": {},
   "source": [
    "### Test avec 5 dès à 6 faces"
   ]
  },
  {
   "cell_type": "code",
   "execution_count": 20,
   "metadata": {},
   "outputs": [
    {
     "name": "stderr",
     "output_type": "stream",
     "text": [
      "Learning: 100%|██████████| 20000/20000 [00:24<00:00, 815.51it/s]\n",
      "Test on best policy: 100%|██████████| 10000/10000 [00:12<00:00, 831.17it/s]\n"
     ]
    },
    {
     "name": "stdout",
     "output_type": "stream",
     "text": [
      "Score moyen best policy: 107.2309\n"
     ]
    },
    {
     "name": "stderr",
     "output_type": "stream",
     "text": [
      "Test on random policy: 100%|██████████| 10000/10000 [00:11<00:00, 858.31it/s]\n"
     ]
    },
    {
     "name": "stdout",
     "output_type": "stream",
     "text": [
      "Score moyen random policy: 87.9484\n"
     ]
    },
    {
     "name": "stderr",
     "output_type": "stream",
     "text": [
      "Test on greedy policy: 100%|██████████| 10000/10000 [00:11<00:00, 869.27it/s]"
     ]
    },
    {
     "name": "stdout",
     "output_type": "stream",
     "text": [
      "Score moyen greedy policy: 105.2133\n"
     ]
    },
    {
     "name": "stderr",
     "output_type": "stream",
     "text": [
      "\n"
     ]
    }
   ],
   "source": [
    "best_env = YamsEnv(5, 6, [Number(0), Number(1), Number(2), Number(3), Number(4), Number(5), Brelan(), Multiple(4, 30), Multiple(5, 50), Chance()], rl.choose_action, 'turnQsF.npy')\n",
    "best_scores = []\n",
    "_ = rl.learn(20000, best_env, gamma=1.0)\n",
    "for i in tqdm(range(10000), desc='Test on best policy'):\n",
    "    best_scores.append(rl.test(best_env))\n",
    "print(f'Score moyen best policy: {np.mean(best_scores)}')\n",
    "\n",
    "random_env = YamsEnv(5, 6, [Number(0), Number(1), Number(2), Number(3), Number(4), Number(5), Brelan(), Multiple(4, 30), Multiple(5, 50), Chance()], random_policy, 'turnQsF.npy')\n",
    "random_scores = []\n",
    "for i in tqdm(range(10000), desc='Test on random policy'):\n",
    "    random_scores.append(rl.test(random_env))\n",
    "print(f'Score moyen random policy: {np.mean(random_scores)}')\n",
    "    \n",
    "greedy_policy = YamsEnv(5, 6, [Number(0), Number(1), Number(2), Number(3), Number(4), Number(5), Brelan(), Multiple(4, 30), Multiple(5, 50), Chance()], saved_turnQs='turnQsF.npy')\n",
    "greedy_scores = []\n",
    "for i in tqdm(range(10000), desc='Test on greedy policy'):\n",
    "    greedy_scores.append(rl.test(greedy_policy))\n",
    "print(f'Score moyen greedy policy: {np.mean(greedy_scores)}')"
   ]
  },
  {
   "cell_type": "markdown",
   "metadata": {},
   "source": [
    "- Ajouter algo (MC control(epsilon-greedy), SARSA ou Q-Learning)\n",
    "- Visualisation value policy(Regarder value des états suivants)\n",
    "- Explicabilité stratégie obtenue\n",
    "- Comparer avec environnement $state = (scored\\_figures, tot\\_reward)$\n",
    "\n"
   ]
  }
 ],
 "metadata": {
  "kernelspec": {
   "display_name": "hpcenv",
   "language": "python",
   "name": "python3"
  },
  "language_info": {
   "codemirror_mode": {
    "name": "ipython",
    "version": 3
   },
   "file_extension": ".py",
   "mimetype": "text/x-python",
   "name": "python",
   "nbconvert_exporter": "python",
   "pygments_lexer": "ipython3",
   "version": "3.12.5"
  }
 },
 "nbformat": 4,
 "nbformat_minor": 2
}
