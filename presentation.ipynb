{
 "cells": [
  {
   "cell_type": "markdown",
   "metadata": {},
   "source": [
    "# Reinforcement Learning pour le Yams\n",
    "\n",
    "## Objectifs\n",
    "\n",
    "Développer un environnement de jeu pour le Yams et entraîner un algorithme de renforcement pour jouer au Yams.\n",
    "\n",
    "## Expériences\n",
    "\n",
    "Pour évaluer la performance de l'algorithme de renforcement, nous allons comparer les performances de l'algorithme avec un joueur aléatoire.\n",
    "Pour ce faire, nous allons comparer les scores moyens obtenus par les deux joueurs sur un grand nombre de parties obtenues à partir de la même clé aléatoire, c'est-à-dire les mêmes lancés de dés."
   ]
  },
  {
   "cell_type": "code",
   "execution_count": 8,
   "metadata": {},
   "outputs": [],
   "source": [
    "import numpy as np"
   ]
  },
  {
   "cell_type": "markdown",
   "metadata": {},
   "source": [
    "## Réprésentation des figures"
   ]
  },
  {
   "cell_type": "markdown",
   "metadata": {},
   "source": [
    "Chaque type de figure (Nombre, Pair/Brelan/Carré/Yams,...) est représenté par une classe qui permet de définir si avec une combinaison de dès (représentation par histogramme), il est possible de réaliser la figure et le nombre de point qu'elle rapporte le cas échéant."
   ]
  },
  {
   "cell_type": "code",
   "execution_count": null,
   "metadata": {},
   "outputs": [
    {
     "name": "stdout",
     "output_type": "stream",
     "text": [
      "6\n"
     ]
    }
   ],
   "source": [
    "class Number():\n",
    "    def __init__(self, number:int):\n",
    "        self.number = number\n",
    "\n",
    "    def is_valid(self, dices:np.array):\n",
    "        return dices[self.number] > 0\n",
    "\n",
    "    def compute_value(self, dices:np.array):\n",
    "        return (self.number + 1) * dices[self.number]\n",
    "\n",
    "# Number(2) compte le nombre de 3 parmis les dès\n",
    "print(Number(2).compute_value(np.array([0, 3, 2, 0, 0, 0])))"
   ]
  },
  {
   "cell_type": "markdown",
   "metadata": {},
   "source": [
    "## Environnement de tour"
   ]
  },
  {
   "cell_type": "markdown",
   "metadata": {},
   "source": [
    "L'environnement de tour est identique à l'environnement donné. Le vecteur de récompense est déterminé en prenant la figure disponible qui rapporte le plus de point pour chaque combinaison de dés."
   ]
  },
  {
   "cell_type": "code",
   "execution_count": null,
   "metadata": {
    "vscode": {
     "languageId": "plaintext"
    }
   },
   "outputs": [],
   "source": [
    "# Partie du code récupérant le vecteur de récompense\n",
    "# reward_table = np.zeros((len(MyTurn.S),len(self.figures)))\n",
    "# for i, s in enumerate(MyTurn.S):\n",
    "#    Aa = self.get_actions(s)\n",
    "#    for a, r in Aa :\n",
    "#        reward_table[i,a]= r \n",
    "# v_3 = reward_table.max(axis=1) "
   ]
  },
  {
   "cell_type": "markdown",
   "metadata": {},
   "source": [
    "## Environnement de partie"
   ]
  },
  {
   "cell_type": "markdown",
   "metadata": {},
   "source": [
    "Les états sont représenté par un vecteur binaire indiquant si la figure a été prise ou non durant la partie."
   ]
  },
  {
   "cell_type": "code",
   "execution_count": null,
   "metadata": {
    "vscode": {
     "languageId": "plaintext"
    }
   },
   "outputs": [],
   "source": [
    "# def get_states(self):\n",
    "#        \"\"\"Return a list of all possibles states\"\"\"\n",
    "#        states = []\n",
    "#        for it in itertools.product(range(2), repeat=len(self.figures)):\n",
    "#            states.append(tuple(it))\n",
    "#        return states"
   ]
  },
  {
   "cell_type": "code",
   "execution_count": null,
   "metadata": {
    "vscode": {
     "languageId": "plaintext"
    }
   },
   "outputs": [],
   "source": []
  }
 ],
 "metadata": {
  "kernelspec": {
   "display_name": "Python 3",
   "language": "python",
   "name": "python3"
  },
  "language_info": {
   "codemirror_mode": {
    "name": "ipython",
    "version": 3
   },
   "file_extension": ".py",
   "mimetype": "text/x-python",
   "name": "python",
   "nbconvert_exporter": "python",
   "pygments_lexer": "ipython3",
   "version": "3.11.4"
  }
 },
 "nbformat": 4,
 "nbformat_minor": 2
}
